{
  "nbformat": 4,
  "nbformat_minor": 0,
  "metadata": {
    "colab": {
      "provenance": [],
      "authorship_tag": "ABX9TyN/Najr9khfeCsJyUFElZn3",
      "include_colab_link": true
    },
    "kernelspec": {
      "name": "python3",
      "display_name": "Python 3"
    },
    "language_info": {
      "name": "python"
    }
  },
  "cells": [
    {
      "cell_type": "markdown",
      "metadata": {
        "id": "view-in-github",
        "colab_type": "text"
      },
      "source": [
        "<a href=\"https://colab.research.google.com/github/saifayesha927/Assignment-17-OOP_13-2/blob/main/ayesha_saif_assigment_13.ipynb\" target=\"_parent\"><img src=\"https://colab.research.google.com/assets/colab-badge.svg\" alt=\"Open In Colab\"/></a>"
      ]
    },
    {
      "cell_type": "code",
      "execution_count": null,
      "metadata": {
        "colab": {
          "base_uri": "https://localhost:8080/"
        },
        "id": "-fjbX-KsDx0h",
        "outputId": "c7102821-0f21-48e9-f1da-810461dffb79"
      },
      "outputs": [
        {
          "output_type": "stream",
          "name": "stdout",
          "text": [
            "The vehicle moves forward.\n",
            "The vehicle moves forward.\n",
            "The vehicle moves forward.\n"
          ]
        }
      ],
      "source": [
        "#1. Use inheritance by creating a Vehicle class with methods like move(); then subclass Car and Boat to extend.\n",
        "\n",
        "class Vehicle:\n",
        "    def move(self):\n",
        "        print(\"The vehicle moves forward.\")\n",
        "\n",
        "class Car(Vehicle):\n",
        "    pass\n",
        "\n",
        "class Boat(Vehicle):\n",
        "    pass\n",
        "\n",
        "v = Vehicle()\n",
        "c = Car()\n",
        "b = Boat()\n",
        "\n",
        "v.move()\n",
        "c.move()\n",
        "b.move()"
      ]
    },
    {
      "cell_type": "code",
      "source": [
        "#2.Demonstrate method overriding by redefining move() behavior in Car and Boat.\n",
        "\n",
        "class Vehicle:\n",
        "    def move(self):\n",
        "        print(\"The vehicle moves forward.\")\n",
        "\n",
        "class Car(Vehicle):\n",
        "    def move(self):\n",
        "        print(\"The car drives on the road.\")\n",
        "\n",
        "class Boat(Vehicle):\n",
        "    def move(self):\n",
        "        print(\"The boat sails on the water.\")\n",
        "\n",
        "v = Vehicle()\n",
        "c = Car()\n",
        "b = Boat()\n",
        "\n",
        "v.move()\n",
        "c.move()\n",
        "b.move()"
      ],
      "metadata": {
        "colab": {
          "base_uri": "https://localhost:8080/"
        },
        "id": "3trHcBnKD-HQ",
        "outputId": "da67852f-86ea-4ab7-c6a5-658fcfa5208d"
      },
      "execution_count": null,
      "outputs": [
        {
          "output_type": "stream",
          "name": "stdout",
          "text": [
            "The vehicle moves forward.\n",
            "The car drives on the road.\n",
            "The boat sails on the water.\n"
          ]
        }
      ]
    },
    {
      "cell_type": "code",
      "source": [
        "#3. Use operator overloading (__add__) in a Vector class to support vector addition using +.\n",
        "class Vector:\n",
        "    def __init__(self, x, y):\n",
        "        self.x = x\n",
        "        self.y = y\n",
        "\n",
        "\n",
        "    def __add__(self, other):\n",
        "\n",
        "        return Vector(self.x + other.x, self.y + other.y)\n",
        "\n",
        "    def __str__(self):\n",
        "        return f\"Vector({self.x}, {self.y})\"\n",
        "\n",
        "\n",
        "v1 = Vector(2, 3)\n",
        "v2 = Vector(4, 5)\n",
        "\n",
        "v3 = v1 + v2\n",
        "print(v3)\n"
      ],
      "metadata": {
        "colab": {
          "base_uri": "https://localhost:8080/"
        },
        "id": "QzV2eq8cEFxB",
        "outputId": "2f5b67e9-6f48-4042-ee74-d2743b375226"
      },
      "execution_count": null,
      "outputs": [
        {
          "output_type": "stream",
          "name": "stdout",
          "text": [
            "Vector(6, 8)\n"
          ]
        }
      ]
    },
    {
      "cell_type": "code",
      "source": [
        "#4. Implement polymorphism by creating a function describe_move(obj) that works for both Car and Boat.\n",
        "\n",
        "class Vehicle:\n",
        "    def move(self):\n",
        "        print(\"The vehicle moves forward.\")\n",
        "\n",
        "class Car(Vehicle):\n",
        "    def move(self):\n",
        "        print(\"The car drives on the road.\")\n",
        "\n",
        "class Boat(Vehicle):\n",
        "    def move(self):\n",
        "        print(\"The boat sails on the water.\")\n",
        "\n",
        "def describe_move(obj):\n",
        "    obj.move()\n",
        "\n",
        "c = Car()\n",
        "b = Boat()\n",
        "\n",
        "describe_move(c)\n",
        "describe_move(b)"
      ],
      "metadata": {
        "colab": {
          "base_uri": "https://localhost:8080/"
        },
        "id": "HJm3bBNrEP55",
        "outputId": "49976ede-11f3-4167-e337-96286bf23b64"
      },
      "execution_count": null,
      "outputs": [
        {
          "output_type": "stream",
          "name": "stdout",
          "text": [
            "The car drives on the road.\n",
            "The boat sails on the water.\n"
          ]
        }
      ]
    },
    {
      "cell_type": "code",
      "source": [
        "#5. Apply decorators to log every method call in a sample class.\n",
        "\n",
        "def log_method_call(func):\n",
        "    def wrapper(*args, **kwargs):\n",
        "        print(f\"Calling method: {func.__name__}\")\n",
        "        return func(*args, **kwargs)\n",
        "    return wrapper\n",
        "\n",
        "\n",
        "class MyClass:\n",
        "    @log_method_call\n",
        "    def say_hello(self):\n",
        "        print(\"Hello, World!\")\n",
        "\n",
        "    @log_method_call\n",
        "    def greet_user(self, name):\n",
        "        print(f\"Hello, {name}!\")\n",
        "\n",
        "\n",
        "obj = MyClass()\n",
        "obj.say_hello()\n",
        "obj.greet_user(\"Ayesha\")"
      ],
      "metadata": {
        "colab": {
          "base_uri": "https://localhost:8080/"
        },
        "id": "-h5TtY68EVFx",
        "outputId": "8673eecc-71d5-4f3c-b738-c11a64da8c93"
      },
      "execution_count": null,
      "outputs": [
        {
          "output_type": "stream",
          "name": "stdout",
          "text": [
            "Calling method: say_hello\n",
            "Hello, World!\n",
            "Calling method: greet_user\n",
            "Hello, Ayesha!\n"
          ]
        }
      ]
    },
    {
      "cell_type": "code",
      "source": [
        "#7. Create a Shape abstract class using abc module with an abstract method area(), then subclass Circle and Square.\n",
        "\n",
        "from abc import ABC, abstractmethod\n",
        "import math\n",
        "\n",
        "class Shape(ABC):\n",
        "    @abstractmethod\n",
        "    def area(self):\n",
        "        pass\n",
        "\n",
        "class Circle(Shape):\n",
        "    def __init__(self, radius):\n",
        "        self.radius = radius\n",
        "\n",
        "    def area(self):\n",
        "        return math.pi * self.radius ** 2\n",
        "\n",
        "class Square(Shape):\n",
        "    def __init__(self, side):\n",
        "        self.side = side\n",
        "\n",
        "    def area(self):\n",
        "        return self.side ** 2\n",
        "\n",
        "circle = Circle(5)\n",
        "square = Square(4)\n",
        "\n",
        "print(f\"Circle Area: {circle.area():.2f}\")\n",
        "print(f\"Square Area: {square.area():.2f}\")\n"
      ],
      "metadata": {
        "colab": {
          "base_uri": "https://localhost:8080/"
        },
        "id": "tMMfMfOxI_6O",
        "outputId": "52889b86-5c73-4a8c-a272-e76732ad4cc4"
      },
      "execution_count": null,
      "outputs": [
        {
          "output_type": "stream",
          "name": "stdout",
          "text": [
            "Circle Area: 78.54\n",
            "Square Area: 16.00\n"
          ]
        }
      ]
    },
    {
      "cell_type": "code",
      "source": [
        "#8. Override __str__() in both shapes to return friendly descriptions.\n",
        "\n",
        "from abc import ABC, abstractmethod\n",
        "import math\n",
        "\n",
        "class Shape(ABC):\n",
        "    @abstractmethod\n",
        "    def area(self):\n",
        "        pass\n",
        "\n",
        "class Circle(Shape):\n",
        "    def __init__(self, radius):\n",
        "        self.radius = radius\n",
        "\n",
        "    def area(self):\n",
        "        return math.pi * self.radius ** 2\n",
        "\n",
        "    def __str__(self):\n",
        "        return f\"A Circle with radius {self.radius} has area {self.area():.2f}\"\n",
        "\n",
        "class Square(Shape):\n",
        "    def __init__(self, side):\n",
        "        self.side = side\n",
        "\n",
        "    def area(self):\n",
        "        return self.side ** 2\n",
        "\n",
        "    def __str__(self):\n",
        "        return f\"A Square with side {self.side} has area {self.area():.2f}\"\n",
        "\n",
        "circle = Circle(5)\n",
        "square = Square(4)\n",
        "\n",
        "print(circle)\n",
        "print(square)\n"
      ],
      "metadata": {
        "colab": {
          "base_uri": "https://localhost:8080/"
        },
        "id": "CX1uZ7AaJXM3",
        "outputId": "7137cbcb-2fb7-4a24-a9fe-9bea69e5bbbc"
      },
      "execution_count": null,
      "outputs": [
        {
          "output_type": "stream",
          "name": "stdout",
          "text": [
            "A Circle with radius 5 has area 78.54\n",
            "A Square with side 4 has area 16.00\n"
          ]
        }
      ]
    },
    {
      "cell_type": "code",
      "source": [
        "#9. Use magic methods (__len__()) in a custom Group class to return size.\n",
        "\n",
        "class Group:\n",
        "    def __init__(self, members):\n",
        "        self.members = members\n",
        "\n",
        "    def __len__(self):\n",
        "        return len(self.members)\n",
        "\n",
        "group1 = Group([\"Ayegul\", \"Ayesha\", \"Faiza\", \"Sara\"])\n",
        "group2 = Group([\"Areeba\", \"Mlaika\"])\n",
        "\n",
        "print(f\"Group 1 size: {len(group1)}\")\n",
        "print(f\"Group 2 size: {len(group2)}\")\n"
      ],
      "metadata": {
        "colab": {
          "base_uri": "https://localhost:8080/"
        },
        "id": "34apH-IuJaNK",
        "outputId": "ed1498f5-274a-44fb-be13-8b317e225457"
      },
      "execution_count": null,
      "outputs": [
        {
          "output_type": "stream",
          "name": "stdout",
          "text": [
            "Group 1 size: 4\n",
            "Group 2 size: 2\n"
          ]
        }
      ]
    },
    {
      "cell_type": "code",
      "source": [
        "#10. Apply a class decorator that adds a created_at timestamp attribute to classes upon instantiation using datetime.now().\n",
        "\n",
        "from datetime import datetime\n",
        "def add_timestamp(cls):\n",
        "    original_init = cls.__init__\n",
        "\n",
        "    def new_init(self, *args, **kwargs):\n",
        "        self.created_at = datetime.now()\n",
        "        original_init(self, *args, **kwargs)\n",
        "\n",
        "    cls.__init__ = new_init\n",
        "    return cls\n",
        "\n",
        "@add_timestamp\n",
        "class Person:\n",
        "    def __init__(self, name):\n",
        "        self.name = name\n",
        "\n",
        "p1 = Person(\"Ayesha\")\n",
        "p2 = Person(\"Faiza\")\n",
        "\n",
        "print(f\"Name: {p1.name}, Created At: {p1.created_at}\")\n",
        "print(f\"Name: {p2.name}, Created At: {p2.created_at}\")\n"
      ],
      "metadata": {
        "colab": {
          "base_uri": "https://localhost:8080/"
        },
        "id": "ZYcWhj-FJfam",
        "outputId": "ea7e0067-27df-42c0-fd3a-7ca860066e6d"
      },
      "execution_count": null,
      "outputs": [
        {
          "output_type": "stream",
          "name": "stdout",
          "text": [
            "Name: Ayesha, Created At: 2025-08-14 15:15:11.809791\n",
            "Name: Faiza, Created At: 2025-08-14 15:15:11.809841\n"
          ]
        }
      ]
    }
  ]
}